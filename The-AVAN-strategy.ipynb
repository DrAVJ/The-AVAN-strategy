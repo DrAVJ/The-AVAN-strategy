{
 "cells": [
  {
   "cell_type": "code",
   "execution_count": 2,
   "id": "0e893501",
   "metadata": {},
   "outputs": [
    {
     "data": {
      "text/plain": [
       "'D:\\\\The-AVAN-strategy'"
      ]
     },
     "execution_count": 2,
     "metadata": {},
     "output_type": "execute_result"
    }
   ],
   "source": [
    "%pwd"
   ]
  },
  {
   "cell_type": "code",
   "execution_count": 3,
   "id": "89ef40ca",
   "metadata": {},
   "outputs": [
    {
     "name": "stdout",
     "output_type": "stream",
     "text": [
      "Initialized empty Git repository in D:/The-AVAN-strategy/.git/\n"
     ]
    }
   ],
   "source": [
    "!git init"
   ]
  },
  {
   "cell_type": "code",
   "execution_count": 5,
   "id": "246b9e9b",
   "metadata": {},
   "outputs": [],
   "source": [
    "!echo \"# The-AVAN-strategy\" >> README.md\n"
   ]
  },
  {
   "cell_type": "code",
   "execution_count": 6,
   "id": "e2523f99",
   "metadata": {},
   "outputs": [],
   "source": [
    "\n",
    "!git add README.md\n"
   ]
  },
  {
   "cell_type": "code",
   "execution_count": 7,
   "id": "07a5893d",
   "metadata": {},
   "outputs": [
    {
     "name": "stdout",
     "output_type": "stream",
     "text": [
      "[master (root-commit) 773d4a6] first commit\n",
      " Committer: Andreas Johansson <joandre@net.chalmers.se>\n",
      "Your name and email address were configured automatically based\n",
      "on your username and hostname. Please check that they are accurate.\n",
      "You can suppress this message by setting them explicitly. Run the\n",
      "following command and follow the instructions in your editor to edit\n",
      "your configuration file:\n",
      "\n",
      "    git config --global --edit\n",
      "\n",
      "After doing this, you may fix the identity used for this commit with:\n",
      "\n",
      "    git commit --amend --reset-author\n",
      "\n",
      " 1 file changed, 1 insertion(+)\n",
      " create mode 100644 README.md\n"
     ]
    }
   ],
   "source": [
    "!git commit -m \"first commit\"\n"
   ]
  },
  {
   "cell_type": "code",
   "execution_count": 8,
   "id": "12f4a44e",
   "metadata": {},
   "outputs": [],
   "source": [
    "!git branch -M main"
   ]
  },
  {
   "cell_type": "code",
   "execution_count": 9,
   "id": "fec85d69",
   "metadata": {},
   "outputs": [],
   "source": [
    "!git remote add origin https://github.com/DrAVJ/The-AVAN-strategy.git\n"
   ]
  },
  {
   "cell_type": "code",
   "execution_count": 10,
   "id": "1755face",
   "metadata": {},
   "outputs": [
    {
     "name": "stdout",
     "output_type": "stream",
     "text": [
      "Branch 'main' set up to track remote branch 'main' from 'origin'.\n"
     ]
    },
    {
     "name": "stderr",
     "output_type": "stream",
     "text": [
      "To https://github.com/DrAVJ/The-AVAN-strategy.git\n",
      " * [new branch]      main -> main\n"
     ]
    }
   ],
   "source": [
    "!git push -u origin main"
   ]
  },
  {
   "cell_type": "code",
   "execution_count": 11,
   "id": "79a54a42",
   "metadata": {},
   "outputs": [],
   "source": [
    "!mkdir css"
   ]
  },
  {
   "cell_type": "code",
   "execution_count": 13,
   "id": "5aad1d1b",
   "metadata": {},
   "outputs": [],
   "source": [
    "with open(\"css/styles.css\", \"w\") as f:\n",
    "    f.write(\"\"\"\n",
    "    body {\n",
    "        background-color: #f2f2f2;\n",
    "    }\n",
    "\n",
    "    h1 {\n",
    "        color: #333;\n",
    "    }\n",
    "    \"\"\")"
   ]
  },
  {
   "cell_type": "code",
   "execution_count": 14,
   "id": "7206f8aa",
   "metadata": {},
   "outputs": [],
   "source": [
    "with open(\".gitignore\", \"w\") as f:\n",
    "    f.write(\"\"\"\n",
    "    # ignore all .ipynb files\n",
    "    *.ipynb\n",
    "    \"\"\")"
   ]
  },
  {
   "cell_type": "code",
   "execution_count": null,
   "id": "e275259f",
   "metadata": {},
   "outputs": [],
   "source": []
  }
 ],
 "metadata": {
  "kernelspec": {
   "display_name": "Python 3 (ipykernel)",
   "language": "python",
   "name": "python3"
  },
  "language_info": {
   "codemirror_mode": {
    "name": "ipython",
    "version": 3
   },
   "file_extension": ".py",
   "mimetype": "text/x-python",
   "name": "python",
   "nbconvert_exporter": "python",
   "pygments_lexer": "ipython3",
   "version": "3.8.12"
  }
 },
 "nbformat": 4,
 "nbformat_minor": 5
}
