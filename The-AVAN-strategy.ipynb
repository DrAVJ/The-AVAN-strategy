{
 "cells": [
  {
   "cell_type": "code",
   "execution_count": 2,
   "id": "fb8d4e12",
   "metadata": {},
   "outputs": [
    {
     "data": {
      "text/plain": [
       "'D:\\\\The-AVAN-strategy'"
      ]
     },
     "execution_count": 2,
     "metadata": {},
     "output_type": "execute_result"
    }
   ],
   "source": [
    "%pwd"
   ]
  },
  {
   "cell_type": "code",
   "execution_count": 3,
   "id": "78cfe8b5",
   "metadata": {},
   "outputs": [
    {
     "name": "stdout",
     "output_type": "stream",
     "text": [
      "Initialized empty Git repository in D:/The-AVAN-strategy/.git/\n"
     ]
    }
   ],
   "source": [
    "!git init"
   ]
  },
  {
   "cell_type": "code",
   "execution_count": 5,
   "id": "58c4d568",
   "metadata": {},
   "outputs": [],
   "source": [
    "!echo \"# The-AVAN-strategy\" >> README.md\n"
   ]
  },
  {
   "cell_type": "code",
   "execution_count": 6,
   "id": "968d6003",
   "metadata": {},
   "outputs": [],
   "source": [
    "\n",
    "!git add README.md\n"
   ]
  },
  {
   "cell_type": "code",
   "execution_count": 7,
   "id": "3dd052c7",
   "metadata": {},
   "outputs": [
    {
     "name": "stdout",
     "output_type": "stream",
     "text": [
      "[master (root-commit) 773d4a6] first commit\n",
      " Committer: Andreas Johansson <joandre@net.chalmers.se>\n",
      "Your name and email address were configured automatically based\n",
      "on your username and hostname. Please check that they are accurate.\n",
      "You can suppress this message by setting them explicitly. Run the\n",
      "following command and follow the instructions in your editor to edit\n",
      "your configuration file:\n",
      "\n",
      "    git config --global --edit\n",
      "\n",
      "After doing this, you may fix the identity used for this commit with:\n",
      "\n",
      "    git commit --amend --reset-author\n",
      "\n",
      " 1 file changed, 1 insertion(+)\n",
      " create mode 100644 README.md\n"
     ]
    }
   ],
   "source": [
    "!git commit -m \"first commit\"\n"
   ]
  },
  {
   "cell_type": "code",
   "execution_count": 8,
   "id": "a15e9037",
   "metadata": {},
   "outputs": [],
   "source": [
    "!git branch -M main"
   ]
  },
  {
   "cell_type": "code",
   "execution_count": 23,
   "id": "9ccaf576",
   "metadata": {},
   "outputs": [
    {
     "name": "stderr",
     "output_type": "stream",
     "text": [
      "error: remote origin already exists.\n"
     ]
    }
   ],
   "source": [
    "!git remote add origin https://github.com/DrAVJ/The-AVAN-strategy.git\n"
   ]
  },
  {
   "cell_type": "code",
   "execution_count": 10,
   "id": "ee536e9e",
   "metadata": {},
   "outputs": [
    {
     "name": "stdout",
     "output_type": "stream",
     "text": [
      "Branch 'main' set up to track remote branch 'main' from 'origin'.\n"
     ]
    },
    {
     "name": "stderr",
     "output_type": "stream",
     "text": [
      "To https://github.com/DrAVJ/The-AVAN-strategy.git\n",
      " * [new branch]      main -> main\n"
     ]
    }
   ],
   "source": [
    "!git push -u origin main"
   ]
  },
  {
   "cell_type": "code",
   "execution_count": 11,
   "id": "847d7c37",
   "metadata": {},
   "outputs": [],
   "source": [
    "!mkdir css"
   ]
  },
  {
   "cell_type": "code",
   "execution_count": 13,
   "id": "c0ec17dd",
   "metadata": {},
   "outputs": [],
   "source": [
    "with open(\"css/styles.css\", \"w\") as f:\n",
    "    f.write(\"\"\"\n",
    "    body {\n",
    "        background-color: #f2f2f2;\n",
    "    }\n",
    "\n",
    "    h1 {\n",
    "        color: #333;\n",
    "    }\n",
    "    \"\"\")"
   ]
  },
  {
   "cell_type": "code",
   "execution_count": 17,
   "id": "d0aae18f",
   "metadata": {},
   "outputs": [],
   "source": [
    "with open(\".gitignore\", \"w\") as f:\n",
    "    f.write(\"\"\"\n",
    "    # ignore all .ipynb files\n",
    "    *.ipynb\n",
    "    \"\"\")"
   ]
  },
  {
   "cell_type": "code",
   "execution_count": 19,
   "id": "ffb71af6",
   "metadata": {},
   "outputs": [
    {
     "data": {
      "text/plain": [
       "'D:\\\\The-AVAN-strategy'"
      ]
     },
     "execution_count": 19,
     "metadata": {},
     "output_type": "execute_result"
    }
   ],
   "source": [
    "%pwd"
   ]
  },
  {
   "cell_type": "code",
   "execution_count": 24,
   "id": "3454c7cd",
   "metadata": {},
   "outputs": [
    {
     "name": "stderr",
     "output_type": "stream",
     "text": [
      "error: Merging is not possible because you have unmerged files.\n",
      "hint: Fix them up in the work tree, and then use 'git add/rm <file>'\n",
      "hint: as appropriate to mark resolution and make a commit.\n",
      "fatal: Exiting because of an unresolved conflict.\n"
     ]
    }
   ],
   "source": [
    "!git merge"
   ]
  },
  {
   "cell_type": "code",
   "execution_count": 25,
   "id": "00bb02fd",
   "metadata": {},
   "outputs": [
    {
     "name": "stdout",
     "output_type": "stream",
     "text": [
      "[main ce9760d] added gitignore\n",
      " Committer: Andreas Johansson <joandre@net.chalmers.se>\n",
      "Your name and email address were configured automatically based\n",
      "on your username and hostname. Please check that they are accurate.\n",
      "You can suppress this message by setting them explicitly. Run the\n",
      "following command and follow the instructions in your editor to edit\n",
      "your configuration file:\n",
      "\n",
      "    git config --global --edit\n",
      "\n",
      "After doing this, you may fix the identity used for this commit with:\n",
      "\n",
      "    git commit --amend --reset-author\n",
      "\n"
     ]
    },
    {
     "name": "stderr",
     "output_type": "stream",
     "text": [
      "To https://github.com/DrAVJ/The-AVAN-strategy.git\n",
      "   cd59537..ce9760d  main -> main\n"
     ]
    }
   ],
   "source": [
    "!git add .gitignore\n",
    "!git commit -m \"added gitignore\"\n",
    "!git push origin main"
   ]
  },
  {
   "cell_type": "code",
   "execution_count": 28,
   "id": "d1818c0a",
   "metadata": {},
   "outputs": [
    {
     "name": "stdout",
     "output_type": "stream",
     "text": [
      "Updating ce9760d..c1076b6\n",
      "Fast-forward\n",
      " .gitignore | 9 +--------\n",
      " 1 file changed, 1 insertion(+), 8 deletions(-)\n"
     ]
    },
    {
     "name": "stderr",
     "output_type": "stream",
     "text": [
      "From https://github.com/DrAVJ/The-AVAN-strategy\n",
      "   ce9760d..c1076b6  main       -> origin/main\n"
     ]
    }
   ],
   "source": [
    "!git pull"
   ]
  }
 ],
 "metadata": {
  "kernelspec": {
   "display_name": "Python 3 (ipykernel)",
   "language": "python",
   "name": "python3"
  },
  "language_info": {
   "codemirror_mode": {
    "name": "ipython",
    "version": 3
   },
   "file_extension": ".py",
   "mimetype": "text/x-python",
   "name": "python",
   "nbconvert_exporter": "python",
   "pygments_lexer": "ipython3",
   "version": "3.8.12"
  }
 },
 "nbformat": 4,
 "nbformat_minor": 5
}
